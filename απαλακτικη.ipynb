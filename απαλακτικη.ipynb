{
 "cells": [
  {
   "cell_type": "markdown",
   "metadata": {},
   "source": [
    "**Απαλακτική Εργασία - Τεχνικές Εξόρυξης Δεδομένων Ουρανία Βουρτζούμη 1115201600024**"
   ]
  },
  {
   "cell_type": "code",
   "execution_count": 1,
   "metadata": {},
   "outputs": [],
   "source": [
    "import os, glob\n",
    "import nltk\n",
    "import pandas as pd\n",
    "import numpy as np\n",
    "from nltk.corpus import stopwords\n",
    "from sklearn.model_selection import train_test_split\n",
    "\n",
    "\n",
    "path_train = os.path.join(\"c://\",\"/home/rania/Επιφάνεια εργασίας/Τεχνικές Εξόρυξης Δεδομένων/απαλακτική/data/train.csv\")\n",
    "path_labels = os.path.join(\"c://\",\"/home/rania/Επιφάνεια εργασίας/Τεχνικές Εξόρυξης Δεδομένων/απαλακτική/data/impermium_verification_labels.csv\")\n",
    "path_set = os.path.join(\"c://\",\"/home/rania/Επιφάνεια εργασίας/Τεχνικές Εξόρυξης Δεδομένων/απαλακτική/data/impermium_verification_set.csv\")"
   ]
  },
  {
   "cell_type": "code",
   "execution_count": 2,
   "metadata": {},
   "outputs": [],
   "source": [
    "train = pd.read_csv(path_train)\n",
    "labels = pd.read_csv(path_labels)\n",
    "sets = pd.read_csv(path_set)"
   ]
  },
  {
   "cell_type": "markdown",
   "metadata": {},
   "source": [
    "**Προεπεξεργασία και καθάρισμα δεδομένων**"
   ]
  },
  {
   "cell_type": "code",
   "execution_count": 3,
   "metadata": {},
   "outputs": [],
   "source": [
    "def clean(comment):\n",
    "    tokens = nltk.word_tokenize(comment)\n",
    "\n",
    "    tokens = [w.lower() for w in tokens]\n",
    "    \n",
    "    tokens = [word for word in tokens if word.isalpha() and len(word) > 1]\n",
    "    cln = \" \"\n",
    "    cln = cln.join(tokens)\n",
    "    return cln"
   ]
  },
  {
   "cell_type": "code",
   "execution_count": 4,
   "metadata": {},
   "outputs": [],
   "source": [
    "from sklearn.feature_extraction.text import CountVectorizer\n",
    "from sklearn.naive_bayes import GaussianNB\n",
    "from sklearn.metrics import accuracy_score, precision_score, recall_score\n",
    "from sklearn.naive_bayes import MultinomialNB\n",
    "from sklearn.metrics import f1_score\n",
    "\n",
    "def NaiveBayes_prediction(xtrain, ytrain ,xtest , ytest, ngrams, multinominal):\n",
    "    \n",
    "    vectorizer = CountVectorizer(ngram_range=(1, ngrams))\n",
    "    X_train = vectorizer.fit_transform(xtrain)\n",
    "    X_train = X_train.todense()\n",
    "    \n",
    "    if multinominal == 0:\n",
    "        model = GaussianNB()\n",
    "    else:\n",
    "        model = MultinomialNB(alpha=1.0)\n",
    "\n",
    "    model.fit(X_train, ytrain)\n",
    "    \n",
    "    X_test = xtest\n",
    "    X_test = vectorizer.transform(X_test)\n",
    "    X_test = X_test.todense()\n",
    "\n",
    "    predictions = model.predict(X_test)\n",
    "    \n",
    "    Y_test = ytest\n",
    "\n",
    "    print('Accuracy score: ', accuracy_score(ytest, predictions))\n",
    "    print('F1 score: ', f1_score(Y_test, predictions))\n",
    "\n",
    "#     print('Precision score: ', precision_score(ytest, predictions))\n",
    "#     print('Recall score: ', recall_score(ytest, predictions))"
   ]
  },
  {
   "cell_type": "code",
   "execution_count": 6,
   "metadata": {},
   "outputs": [],
   "source": [
    "train['Comment'] = train['Comment'].apply(lambda x: clean(x))\n",
    "sets['Comment'] = sets['Comment'].apply(lambda x: clean(x))"
   ]
  },
  {
   "cell_type": "markdown",
   "metadata": {},
   "source": [
    "**Classification με NaiveBayes**"
   ]
  },
  {
   "cell_type": "code",
   "execution_count": 7,
   "metadata": {},
   "outputs": [
    {
     "name": "stdout",
     "output_type": "stream",
     "text": [
      "Accuracy score:  0.5221476510067115\n",
      "F1 score:  0.5291005291005291\n"
     ]
    }
   ],
   "source": [
    "NaiveBayes_prediction(train['Comment'], train['Insult'], sets['Comment'], labels['Insult'], 1, 0)"
   ]
  },
  {
   "cell_type": "markdown",
   "metadata": {},
   "source": [
    "**Βελτιστοποίηση NaiveBayes**"
   ]
  },
  {
   "cell_type": "markdown",
   "metadata": {},
   "source": [
    "**1.Lemmatization**"
   ]
  },
  {
   "cell_type": "code",
   "execution_count": 8,
   "metadata": {},
   "outputs": [],
   "source": [
    "from nltk.stem import WordNetLemmatizer\n",
    "\n",
    "def lemmatization(comment):\n",
    "    tokens = nltk.word_tokenize(comment)\n",
    "    \n",
    "    lemmatizer = WordNetLemmatizer() \n",
    "    lemmas = [lemmatizer.lemmatize(word) for word in tokens]\n",
    "    \n",
    "    cln = \" \"\n",
    "    cln = cln.join(tokens)\n",
    "    return cln"
   ]
  },
  {
   "cell_type": "code",
   "execution_count": 9,
   "metadata": {},
   "outputs": [],
   "source": [
    "train_lemmatization = train['Comment'].apply(lambda x: lemmatization(x))\n",
    "sets_lemmatization = sets['Comment'].apply(lambda x: lemmatization(x))"
   ]
  },
  {
   "cell_type": "markdown",
   "metadata": {},
   "source": [
    "**Prediction - Accuracy**"
   ]
  },
  {
   "cell_type": "code",
   "execution_count": 10,
   "metadata": {},
   "outputs": [
    {
     "name": "stdout",
     "output_type": "stream",
     "text": [
      "Accuracy score:  0.5221476510067115\n",
      "F1 score:  0.5291005291005291\n"
     ]
    }
   ],
   "source": [
    "NaiveBayes_prediction(train_lemmatization, train['Insult'], sets_lemmatization, labels['Insult'], 1, 0)"
   ]
  },
  {
   "cell_type": "markdown",
   "metadata": {},
   "source": [
    "**2.Αφαίρεση των Stopwords**"
   ]
  },
  {
   "cell_type": "code",
   "execution_count": 11,
   "metadata": {},
   "outputs": [],
   "source": [
    "def stop_words(comment):\n",
    "    tokens = nltk.word_tokenize(comment)\n",
    "    \n",
    "    tokens = [word for word in tokens if not word in stopwords.words('english')]\n",
    "    \n",
    "    cln = \" \"\n",
    "    cln = cln.join(tokens)\n",
    "    return cln"
   ]
  },
  {
   "cell_type": "code",
   "execution_count": 12,
   "metadata": {},
   "outputs": [],
   "source": [
    "train_stopwords = train['Comment'].apply(lambda x: stop_words(x))\n",
    "sets_stopwords = sets['Comment'].apply(lambda x: stop_words(x))"
   ]
  },
  {
   "cell_type": "markdown",
   "metadata": {},
   "source": [
    "**Prediction - Accuracy**"
   ]
  },
  {
   "cell_type": "code",
   "execution_count": 13,
   "metadata": {},
   "outputs": [
    {
     "name": "stdout",
     "output_type": "stream",
     "text": [
      "Accuracy score:  0.5217002237136465\n",
      "F1 score:  0.5284516982796648\n"
     ]
    }
   ],
   "source": [
    "NaiveBayes_prediction(train_stopwords, train['Insult'], sets_stopwords, labels['Insult'], 1, 0)"
   ]
  },
  {
   "cell_type": "markdown",
   "metadata": {},
   "source": [
    "**3.Χρήση Bigrams**"
   ]
  },
  {
   "cell_type": "code",
   "execution_count": 14,
   "metadata": {},
   "outputs": [
    {
     "name": "stdout",
     "output_type": "stream",
     "text": [
      "Accuracy score:  0.5700223713646533\n",
      "F1 score:  0.48361096184846863\n"
     ]
    }
   ],
   "source": [
    "NaiveBayes_prediction(train['Comment'], train['Insult'], sets['Comment'], labels['Insult'], 2, 0)"
   ]
  },
  {
   "cell_type": "markdown",
   "metadata": {},
   "source": [
    "**4.Χρήση Laplace Smoothing**"
   ]
  },
  {
   "cell_type": "code",
   "execution_count": 15,
   "metadata": {},
   "outputs": [
    {
     "name": "stdout",
     "output_type": "stream",
     "text": [
      "Accuracy score:  0.680089485458613\n",
      "F1 score:  0.6202867764206055\n"
     ]
    }
   ],
   "source": [
    "NaiveBayes_prediction(train['Comment'], train['Insult'], sets['Comment'], labels['Insult'], 1, 1)"
   ]
  },
  {
   "cell_type": "markdown",
   "metadata": {},
   "source": [
    "**POS Based Features**"
   ]
  },
  {
   "cell_type": "code",
   "execution_count": 16,
   "metadata": {},
   "outputs": [],
   "source": [
    "from nltk import pos_tag, map_tag\n",
    "\n",
    "def PosTag(comment):\n",
    "\n",
    "    tokens = nltk.word_tokenize(comment)\n",
    "    pos_tags = pos_tag(tokens)\n",
    "    simplifiedTags = [(word, map_tag('en-ptb', 'universal', tag)) for word, tag in pos_tags]\n",
    "    return simplifiedTags"
   ]
  },
  {
   "cell_type": "code",
   "execution_count": 17,
   "metadata": {},
   "outputs": [],
   "source": [
    "pos_train = train['Comment'].apply(lambda x: PosTag(x))\n",
    "pos_sets = sets['Comment'].apply(lambda x: PosTag(x))"
   ]
  },
  {
   "cell_type": "code",
   "execution_count": 18,
   "metadata": {},
   "outputs": [],
   "source": [
    "from collections import Counter\n",
    "# btb==1 for beat the benchmark, inorder to take into account the full tagging\n",
    "def posFrequency(comment, btb):\n",
    "    tokens = nltk.word_tokenize(comment)\n",
    "    tags = nltk.pos_tag(tokens)\n",
    "    simplifiedTags = [(word, map_tag('en-ptb', 'universal', tag)) for word, tag in tags]\n",
    "\n",
    "    counts = Counter( tag for word,  tag in simplifiedTags)\n",
    "    cnt = []\n",
    "    simplecounts = {}\n",
    "\n",
    "    if btb == 0 :\n",
    "        simptags = ['NOUN', 'ADV', 'VERB', 'ADJ']\n",
    "        for entry in list(counts):\n",
    "            if entry not in simptags:\n",
    "                counts.pop(entry)\n",
    "    for entry in counts:\n",
    "        l = counts[entry]\n",
    "        counts.update({entry: counts[entry]/len(tokens) - l})\n",
    "        cnt.append(entry)\n",
    "\n",
    "    if btb == 0 :\n",
    "        other_tags = set(simptags) - set(cnt)\n",
    "        for i in other_tags:\n",
    "            counts[i] = 0\n",
    "    return counts"
   ]
  },
  {
   "cell_type": "code",
   "execution_count": 20,
   "metadata": {},
   "outputs": [],
   "source": [
    "poscount_train = train['Comment'].apply(lambda x: posFrequency(x, 0))\n",
    "poscount_sets = sets['Comment'].apply(lambda x: posFrequency(x, 0))"
   ]
  },
  {
   "cell_type": "code",
   "execution_count": 21,
   "metadata": {},
   "outputs": [],
   "source": [
    "df_train = pd.DataFrame(poscount_train.values.tolist(), index=poscount_train.index)\n",
    "df_sets = pd.DataFrame(poscount_sets.values.tolist(), index=poscount_sets.index)"
   ]
  },
  {
   "cell_type": "code",
   "execution_count": 22,
   "metadata": {},
   "outputs": [],
   "source": [
    "freq_array_train = df_train.to_numpy()\n",
    "freq_array_sets = df_sets.to_numpy()"
   ]
  },
  {
   "cell_type": "markdown",
   "metadata": {},
   "source": [
    "**TF-IDF Based Features**"
   ]
  },
  {
   "cell_type": "code",
   "execution_count": 23,
   "metadata": {},
   "outputs": [],
   "source": [
    "from sklearn.feature_extraction.text import TfidfVectorizer\n",
    "\n",
    "vectorizer = TfidfVectorizer(max_features = 1000, max_df=1.0, min_df = 2)\n",
    "train_vec = vectorizer.fit_transform(train['Comment'])\n",
    "tfidf_array_train = train_vec.toarray()\n",
    "\n",
    "# --------------------------------------------------------------------------------\n",
    "\n",
    "# vectorizer = TfidfVectorizer(max_features = 1000, max_df=1.0, min_df = 2)\n",
    "test_vec = vectorizer.transform(sets['Comment'])\n",
    "tfidf_array_test = test_vec.toarray()"
   ]
  },
  {
   "cell_type": "markdown",
   "metadata": {},
   "source": [
    "**Final Array** - tfidf+pos"
   ]
  },
  {
   "cell_type": "code",
   "execution_count": 24,
   "metadata": {},
   "outputs": [],
   "source": [
    "final_df = pd.DataFrame()\n",
    "df_trainvec = pd.DataFrame(tfidf_array_train)\n",
    "\n",
    "final_df_train = pd.concat([df_trainvec, df_train], axis=1)\n",
    "\n",
    "# --------------------------------------------------------------------------------\n",
    "\n",
    "final_df_test = pd.DataFrame()\n",
    "df_testvec = pd.DataFrame(tfidf_array_test)\n",
    "\n",
    "final_df_test = pd.concat([df_testvec, df_sets], axis=1)"
   ]
  },
  {
   "cell_type": "markdown",
   "metadata": {},
   "source": [
    "**SVM**"
   ]
  },
  {
   "cell_type": "code",
   "execution_count": 25,
   "metadata": {},
   "outputs": [
    {
     "name": "stdout",
     "output_type": "stream",
     "text": [
      "Accuracy score:  0.6782997762863535\n",
      "F1 score:  0.5874928284566839\n"
     ]
    }
   ],
   "source": [
    "from sklearn.svm import SVC\n",
    "\n",
    "model = SVC(kernel='linear', probability=True)\n",
    "model.fit(final_df_train, train['Insult'])\n",
    "\n",
    "X_test = final_df_test\n",
    "\n",
    "predictions = model.predict(X_test)\n",
    "\n",
    "Y_test = labels['Insult']\n",
    "\n",
    "print('Accuracy score: ', accuracy_score(Y_test, predictions))\n",
    "print('F1 score: ', f1_score(Y_test, predictions))\n",
    "# print('Recall score: ', recall_score(Y_test, predictions))"
   ]
  },
  {
   "cell_type": "markdown",
   "metadata": {},
   "source": [
    "**Random Decision Tree**"
   ]
  },
  {
   "cell_type": "code",
   "execution_count": 26,
   "metadata": {},
   "outputs": [
    {
     "name": "stdout",
     "output_type": "stream",
     "text": [
      "Accuracy score:  0.6317673378076063\n",
      "F1 score:  0.44802146210596916\n"
     ]
    }
   ],
   "source": [
    "from sklearn.ensemble import RandomForestClassifier\n",
    "\n",
    "model = RandomForestClassifier(n_estimators = 50, random_state = 42)\n",
    "model.fit(final_df_train, train['Insult'] )\n",
    "\n",
    "X_test = final_df_test\n",
    "\n",
    "predictions = model.predict(X_test)\n",
    "\n",
    "Y_test = labels['Insult']\n",
    "\n",
    "print('Accuracy score: ', accuracy_score(Y_test, predictions))\n",
    "print('F1 score: ', f1_score(Y_test, predictions))\n",
    "\n",
    "# print('Precision score: ', precision_score(Y_test, predictions))\n",
    "# print('Recall score: ', recall_score(Y_test, predictions))"
   ]
  },
  {
   "cell_type": "markdown",
   "metadata": {},
   "source": [
    "**Beat the benchmark** -με SVM"
   ]
  },
  {
   "cell_type": "code",
   "execution_count": 27,
   "metadata": {},
   "outputs": [],
   "source": [
    "# lemmatization\n",
    "train_lemmatization = train['Comment'].apply(lambda x: lemmatization(x))\n",
    "sets_lemmatization = sets['Comment'].apply(lambda x: lemmatization(x))\n",
    "\n",
    "# remove stopwords\n",
    "train_stopwords = train_lemmatization.apply(lambda x: stop_words(x))\n",
    "sets_stopwords = sets_lemmatization.apply(lambda x: stop_words(x))\n",
    "\n",
    "# full tagging\n",
    "poscount_train = train_stopwords.apply(lambda x: posFrequency(x, 1))\n",
    "poscount_sets = sets_stopwords.apply(lambda x: posFrequency(x, 1))"
   ]
  },
  {
   "cell_type": "code",
   "execution_count": 28,
   "metadata": {},
   "outputs": [],
   "source": [
    "# tfidf with new cleaned data\n",
    "\n",
    "vectorizer = TfidfVectorizer(max_features = 1000, max_df=1.0, min_df = 2)\n",
    "train_vec = vectorizer.fit_transform(train_stopwords)\n",
    "tfidf_array_train = train_vec.toarray()\n",
    "\n",
    "# --------------------------------------------------------------------------------\n",
    "\n",
    "# vectorizer = TfidfVectorizer(max_features = 1000, max_df=1.0, min_df = 2)\n",
    "test_vec = vectorizer.transform(sets_stopwords)\n",
    "tfidf_array_test = test_vec.toarray()\n",
    "\n",
    "# create combined dataframe with cleaned data\n",
    "\n",
    "final_df = pd.DataFrame()\n",
    "df_trainvec = pd.DataFrame(tfidf_array_train)\n",
    "\n",
    "final_df_train = pd.concat([df_trainvec, df_train], axis=1)\n",
    "\n",
    "# --------------------------------------------------------------------------------\n",
    "\n",
    "final_df_test = pd.DataFrame()\n",
    "df_testvec = pd.DataFrame(tfidf_array_test)\n",
    "\n",
    "final_df_test = pd.concat([df_testvec, df_sets], axis=1)"
   ]
  },
  {
   "cell_type": "code",
   "execution_count": 29,
   "metadata": {},
   "outputs": [],
   "source": [
    "# # oversampling\n",
    "# from imblearn.over_sampling import SMOTE\n",
    "\n",
    "# sm = SMOTE(sampling_strategy=150/100000, random_state=42,)\n",
    "# x_train_res, y_train_res = sm.fit_sample(final_df_train.to_numpy,  labels['Insult'])\n",
    "# vgazei error"
   ]
  },
  {
   "cell_type": "code",
   "execution_count": 30,
   "metadata": {},
   "outputs": [
    {
     "name": "stdout",
     "output_type": "stream",
     "text": [
      "Accuracy score:  0.6850111856823267\n",
      "F1 score:  0.643002028397566\n"
     ]
    }
   ],
   "source": [
    "from sklearn.svm import SVC\n",
    "\n",
    "model = SVC(kernel='linear', probability=True, class_weight={0:1, 1:2})\n",
    "model.fit(final_df_train, train['Insult'])\n",
    "\n",
    "X_test = final_df_test\n",
    "\n",
    "predictions = model.predict(X_test)\n",
    "\n",
    "Y_test = labels['Insult']\n",
    "\n",
    "print('Accuracy score: ', accuracy_score(Y_test, predictions))\n",
    "print('F1 score: ', f1_score(Y_test, predictions))"
   ]
  }
 ],
 "metadata": {
  "kernelspec": {
   "display_name": "Python 3",
   "language": "python",
   "name": "python3"
  },
  "language_info": {
   "codemirror_mode": {
    "name": "ipython",
    "version": 3
   },
   "file_extension": ".py",
   "mimetype": "text/x-python",
   "name": "python",
   "nbconvert_exporter": "python",
   "pygments_lexer": "ipython3",
   "version": "3.7.6"
  }
 },
 "nbformat": 4,
 "nbformat_minor": 4
}
